{
 "cells": [
  {
   "cell_type": "code",
   "execution_count": 1,
   "id": "b4510c42",
   "metadata": {},
   "outputs": [],
   "source": [
    "# Import Dependencies\n",
    "import os\n",
    "import pandas as pd"
   ]
  },
  {
   "cell_type": "code",
   "execution_count": null,
   "id": "e8b7e272",
   "metadata": {},
   "outputs": [],
   "source": [
    "# Import vine_table.csv as DataFrame\n",
    "# (Exported from pgAdmin PostgreSQL amazon_tools_reviews Database vine_table Table)\n",
    "\n",
    "import_directory = \"data\"\n",
    "import_file = \"vine_table.csv\"\n",
    "\n",
    "file_to_load = os.path.join(import_directory, import_file)\n",
    "\n",
    "vine_table_df = pd.read_csv(file_to_load)"
   ]
  },
  {
   "cell_type": "code",
   "execution_count": null,
   "id": "fd165262",
   "metadata": {},
   "outputs": [],
   "source": [
    "# Check DataFrame\n",
    "vine_table_df.head()"
   ]
  },
  {
   "cell_type": "code",
   "execution_count": null,
   "id": "cf923dfa",
   "metadata": {},
   "outputs": [],
   "source": [
    "# Check DataFrame\n",
    "vine_table_df.count()"
   ]
  },
  {
   "cell_type": "code",
   "execution_count": null,
   "id": "19743caf",
   "metadata": {},
   "outputs": [],
   "source": [
    "# Check DataFrame\n",
    "vine_table_df.dtypes"
   ]
  },
  {
   "cell_type": "code",
   "execution_count": null,
   "id": "59139174",
   "metadata": {},
   "outputs": [],
   "source": [
    "# Count NULLs\n",
    "vine_table_df.isnull().sum()"
   ]
  },
  {
   "cell_type": "code",
   "execution_count": null,
   "id": "bc30ff26",
   "metadata": {},
   "outputs": [],
   "source": [
    "# Show Null star_rating Rows for Inspection (If Any)\n",
    "vine_table_df.loc[(vine_table_df[\"star_rating\"].isna())]"
   ]
  },
  {
   "cell_type": "code",
   "execution_count": null,
   "id": "e1492b6e",
   "metadata": {},
   "outputs": [],
   "source": [
    "# Drop Null Rows (If Applicable)\n",
    "#None"
   ]
  },
  {
   "cell_type": "code",
   "execution_count": null,
   "id": "7c0ca7df",
   "metadata": {},
   "outputs": [],
   "source": [
    "# 1. Filter the data and create a new DataFrame to retrieve\n",
    "#    all the rows where the total_votes count is equal to or\n",
    "#    greater than 20"
   ]
  },
  {
   "cell_type": "code",
   "execution_count": null,
   "id": "ebb16662",
   "metadata": {},
   "outputs": [],
   "source": [
    "# Check DataFrame\n",
    "vine_table_20_votes_df"
   ]
  },
  {
   "cell_type": "code",
   "execution_count": null,
   "id": "bd9b85df",
   "metadata": {},
   "outputs": [],
   "source": [
    "# 2. Filter the new DataFrame created in Step 1 and\n",
    "#    create a new DataFrame to retrieve all the rows\n",
    "#    where the number of helpful_votes divided by total_votes\n",
    "#    (percentage of helpful_votes) is equal to or greater than 50%\n",
    "\n",
    "vine_table_majority_helpful_df = vine_table_20_votes_df.loc[(vine_table_20_votes_df[\"helpful_votes\"]/vine_table_20_votes_df[\"total_votes\"] >= 0.5)]"
   ]
  },
  {
   "cell_type": "code",
   "execution_count": null,
   "id": "4aa452be",
   "metadata": {},
   "outputs": [],
   "source": [
    "# Check DataFrame\n",
    "vine_table_majority_helpful_df"
   ]
  },
  {
   "cell_type": "code",
   "execution_count": null,
   "id": "c6ebbed9",
   "metadata": {},
   "outputs": [],
   "source": [
    "# 3. Filter the DataFrame created in Step 2 and\n",
    "#    create a new DataFrame that retrieves all\n",
    "#    the rows where a review was written as part\n",
    "#    of the Vine Program (paid) [vine == 'Y']\n",
    "\n",
    "vine_table_vine_reviews_df = vine_table_20_votes_df.loc[(vine_table_20_votes_df[\"vine\"] == 'Y')]"
   ]
  },
  {
   "cell_type": "code",
   "execution_count": null,
   "id": "28f928c6",
   "metadata": {},
   "outputs": [],
   "source": [
    "# Check DataFrame\n",
    "vine_table_vine_reviews_df"
   ]
  },
  {
   "cell_type": "code",
   "execution_count": null,
   "id": "07787b60",
   "metadata": {},
   "outputs": [],
   "source": [
    "# 4. Repeat Step 3, but retrieve rows\n",
    "#    where a review was NOT written\n",
    "#    as part of the Vine Program (unpaid) [vine == 'N']\n",
    "\n",
    "vine_table_NOT_vine_reviews_df = vine_table_20_votes_df.loc[(vine_table_20_votes_df[\"vine\"] == 'N')]"
   ]
  },
  {
   "cell_type": "code",
   "execution_count": null,
   "id": "08d593cb",
   "metadata": {},
   "outputs": [],
   "source": [
    "# Check DataFrame\n",
    "vine_table_NOT_vine_reviews_df"
   ]
  },
  {
   "cell_type": "code",
   "execution_count": null,
   "id": "12e5bd49",
   "metadata": {},
   "outputs": [],
   "source": [
    "# 5. Determine the total number of reviews,\n",
    "#    the number of 5-star reviews,\n",
    "#    and the percentage of 5-star reviews\n",
    "#    for the two types of review (paid vs. unpaid)\n",
    "#    for ALL Vine and Non-Vine reviews\n",
    "\n",
    "# First, perform analysis with original, unfiltered DataFrame,\n",
    "# vine_table_df:\n",
    "\n",
    "# a.1. Total Number of Reviews\n",
    "n_reviews = vine_table_df[\"review_id\"].count()\n",
    "print(f\"Total Number of Reviews: {n_reviews}\")\n",
    "\n",
    "# a.2. Total Number of Vine Reviews\n",
    "n_vine_reviews = vine_table_df.loc[(vine_table_df[\"vine\"]) == 'Y'][\"review_id\"].count()\n",
    "print(f\"Total Number of Vine Reviews: {n_vine_reviews}\")\n",
    "\n",
    "# a.3. Total Number of Non-Vine Reviews\n",
    "n_NOT_vine_reviews = vine_table_df.loc[(vine_table_df[\"vine\"]) == 'N'][\"review_id\"].count()\n",
    "print(f\"Total Number of Non-Vine Reviews: {n_NOT_vine_reviews}\")\n",
    "\n",
    "print(\"\\n\")\n",
    "\n",
    "# b.1. Total Number of 5-star Reviews\n",
    "n_5_star_reviews = vine_table_df.loc[(vine_table_df[\"star_rating\"]) == 5][\"review_id\"].count()\n",
    "print(f\"Total Number of 5-Star Reviews: {n_5_star_reviews}\")\n",
    "\n",
    "# b.2. Total Number of Vine 5-star Reviews\n",
    "n_vine_5_star_reviews = vine_table_df.loc[(vine_table_df[\"star_rating\"] == 5) &\n",
    "                                         (vine_table_df[\"vine\"] == 'Y')][\"review_id\"].count()\n",
    "print(f\"Total Number of Vine 5-Star Reviews: {n_vine_5_star_reviews}\")\n",
    "\n",
    "# b.3. Total Number of Non-Vine 5-star Reviews\n",
    "n_NOT_vine_5_star_reviews = vine_table_df.loc[(vine_table_df[\"star_rating\"] == 5) &\n",
    "                                         (vine_table_df[\"vine\"] == 'N')][\"review_id\"].count()\n",
    "print(f\"Total Number of Non-Vine 5-Star Reviews: {n_NOT_vine_5_star_reviews}\")\n",
    "\n",
    "print(\"\\n\")\n",
    "\n",
    "# c.1. Vine Reviews, Percentage of 5-star reviews\n",
    "pct_vine_5_star_reviews = 100*n_vine_5_star_reviews/n_5_star_reviews\n",
    "print(f\"Vine Reviews, Percentage of 5-star Reviews: {pct_vine_5_star_reviews}\")\n",
    "\n",
    "# c.2. Non-Vine Reviews, Percentage of 5-star reviews\n",
    "pct_NOT_vine_5_star_reviews = 100*n_NOT_vine_5_star_reviews/n_5_star_reviews\n",
    "print(f\"Non-Vine Reviews, Percentage of 5-star Reviews: {pct_NOT_vine_5_star_reviews}\")"
   ]
  },
  {
   "cell_type": "code",
   "execution_count": null,
   "id": "4d4bccb0",
   "metadata": {},
   "outputs": [],
   "source": [
    "# 6. Compile Results into a DataFrame\n",
    "\n",
    "vine_reviews = {\n",
    "    \"review_type\": \"Vine\",\n",
    "    \"total_reviews\": n_vine_reviews,\n",
    "    \"total_5_star_reviews\": n_vine_5_star_reviews,\n",
    "    \"pct_of_5_star_reviews\": pct_vine_5_star_reviews,\n",
    "}\n",
    "\n",
    "NOT_vine_reviews = {\n",
    "    \"review_type\": \"Non-Vine\",\n",
    "    \"total_reviews\": n_NOT_vine_reviews,\n",
    "    \"total_5_star_reviews\": n_NOT_vine_5_star_reviews,\n",
    "    \"pct_of_5_star_reviews\": pct_NOT_vine_5_star_reviews,\n",
    "}\n",
    "\n",
    "review_summary_df = pd.DataFrame([vine_reviews, NOT_vine_reviews])\n",
    "\n",
    "# Reset Index, if Desired:\n",
    "#review_summary_df = review_summary_df.set_index(\"review_type\")\n",
    "\n",
    "# Check DataFrame\n",
    "review_summary_df"
   ]
  },
  {
   "cell_type": "code",
   "execution_count": null,
   "id": "6a517ed2",
   "metadata": {},
   "outputs": [],
   "source": []
  }
 ],
 "metadata": {
  "kernelspec": {
   "display_name": "Python 3 (ipykernel)",
   "language": "python",
   "name": "python3"
  },
  "language_info": {
   "codemirror_mode": {
    "name": "ipython",
    "version": 3
   },
   "file_extension": ".py",
   "mimetype": "text/x-python",
   "name": "python",
   "nbconvert_exporter": "python",
   "pygments_lexer": "ipython3",
   "version": "3.7.13"
  }
 },
 "nbformat": 4,
 "nbformat_minor": 5
}
