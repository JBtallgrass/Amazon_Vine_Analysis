{
  "nbformat": 4,
  "nbformat_minor": 0,
  "metadata": {
    "colab": {
      "name": "Amazon_Reviews_ETL.ipynb",
      "provenance": [],
      "collapsed_sections": [],
      "include_colab_link": true
    },
    "kernelspec": {
      "name": "python3",
      "display_name": "Python 3"
    },
    "nteract": {
      "version": "0.12.3"
    },
    "language_info": {
      "name": "python"
    }
  },
  "cells": [
    {
      "cell_type": "markdown",
      "metadata": {
        "id": "view-in-github",
        "colab_type": "text"
      },
      "source": [
        "<a href=\"https://colab.research.google.com/github/JBtallgrass/Amazon_Vine_Analysis/blob/main/Amazon_Reviews_ETL.ipynb\" target=\"_parent\"><img src=\"https://colab.research.google.com/assets/colab-badge.svg\" alt=\"Open In Colab\"/></a>"
      ]
    },
    {
      "cell_type": "code",
      "metadata": {
        "id": "V58rxea0HqSa",
        "colab": {
          "base_uri": "https://localhost:8080/"
        },
        "outputId": "cbcfbe60-e840-431e-d752-ff8a4180af81"
      },
      "source": [
        "import os\n",
        "# Find the latest version of spark 3.0 from http://www.apache.org/dist/spark/ and enter as the spark version\n",
        "# For example:\n",
        "# spark_version = 'spark-3.3.0'\n",
        "spark_version = 'spark-3.3.0'\n",
        "os.environ['SPARK_VERSION']=spark_version\n",
        "\n",
        "# Install Spark and Java\n",
        "!apt-get update\n",
        "!apt-get install openjdk-11-jdk-headless -qq > /dev/null\n",
        "!wget -q http://www.apache.org/dist/spark/$SPARK_VERSION/$SPARK_VERSION-bin-hadoop3.tgz\n",
        "!tar xf $SPARK_VERSION-bin-hadoop3.tgz\n",
        "!pip install -q findspark\n",
        "\n",
        "# Set Environment Variables\n",
        "import os\n",
        "os.environ[\"JAVA_HOME\"] = \"/usr/lib/jvm/java-11-openjdk-amd64\"\n",
        "os.environ[\"SPARK_HOME\"] = f\"/content/{spark_version}-bin-hadoop3\"\n",
        "\n",
        "# Start a SparkSession\n",
        "import findspark\n",
        "findspark.init()"
      ],
      "execution_count": 5,
      "outputs": [
        {
          "output_type": "stream",
          "name": "stdout",
          "text": [
            "Hit:1 https://cloud.r-project.org/bin/linux/ubuntu bionic-cran40/ InRelease\n",
            "Hit:2 http://archive.ubuntu.com/ubuntu bionic InRelease\n",
            "Ign:3 https://developer.download.nvidia.com/compute/machine-learning/repos/ubuntu1804/x86_64  InRelease\n",
            "Hit:4 https://developer.download.nvidia.com/compute/cuda/repos/ubuntu1804/x86_64  InRelease\n",
            "Hit:5 https://developer.download.nvidia.com/compute/machine-learning/repos/ubuntu1804/x86_64  Release\n",
            "Hit:6 http://archive.ubuntu.com/ubuntu bionic-updates InRelease\n",
            "Hit:7 http://archive.ubuntu.com/ubuntu bionic-backports InRelease\n",
            "Hit:8 http://ppa.launchpad.net/c2d4u.team/c2d4u4.0+/ubuntu bionic InRelease\n",
            "Hit:9 http://security.ubuntu.com/ubuntu bionic-security InRelease\n",
            "Hit:10 http://ppa.launchpad.net/cran/libgit2/ubuntu bionic InRelease\n",
            "Hit:11 http://ppa.launchpad.net/deadsnakes/ppa/ubuntu bionic InRelease\n",
            "Hit:13 http://ppa.launchpad.net/graphics-drivers/ppa/ubuntu bionic InRelease\n",
            "Reading package lists... Done\n"
          ]
        }
      ]
    },
    {
      "cell_type": "code",
      "metadata": {
        "id": "_xKwTpATHqSe",
        "colab": {
          "base_uri": "https://localhost:8080/"
        },
        "outputId": "614c1407-361f-45b4-9637-78c2e35b7a8e"
      },
      "source": [
        "# Download the Postgres driver that will allow Spark to interact with Postgres.\n",
        "!wget https://jdbc.postgresql.org/download/postgresql-42.2.16.jar"
      ],
      "execution_count": 4,
      "outputs": [
        {
          "output_type": "stream",
          "name": "stdout",
          "text": [
            "--2022-10-20 02:16:38--  https://jdbc.postgresql.org/download/postgresql-42.2.16.jar\n",
            "Resolving jdbc.postgresql.org (jdbc.postgresql.org)... 72.32.157.228, 2001:4800:3e1:1::228\n",
            "Connecting to jdbc.postgresql.org (jdbc.postgresql.org)|72.32.157.228|:443... connected.\n",
            "HTTP request sent, awaiting response... 200 OK\n",
            "Length: 1002883 (979K) [application/java-archive]\n",
            "Saving to: ‘postgresql-42.2.16.jar.2’\n",
            "\n",
            "postgresql-42.2.16. 100%[===================>] 979.38K  3.94MB/s    in 0.2s    \n",
            "\n",
            "2022-10-20 02:16:39 (3.94 MB/s) - ‘postgresql-42.2.16.jar.2’ saved [1002883/1002883]\n",
            "\n"
          ]
        }
      ]
    },
    {
      "cell_type": "code",
      "metadata": {
        "id": "MMqDAjVS0KN9"
      },
      "source": [],
      "execution_count": null,
      "outputs": []
    },
    {
      "cell_type": "markdown",
      "metadata": {
        "id": "cyBsySGuY-9V"
      },
      "source": [
        "### Load Amazon Data into Spark DataFrame"
      ]
    },
    {
      "cell_type": "code",
      "metadata": {
        "id": "CtCmBhQJY-9Z",
        "outputId": "416b7d2f-2774-4def-81c5-b16b57377cf8",
        "colab": {
          "base_uri": "https://localhost:8080/"
        }
      },
      "source": [
        "from pyspark import SparkFiles\n",
        "url = \"https://s3.amazonaws.com/amazon-reviews-pds/tsv/amazon_reviews_us_Mobile_Apps_v1_00.tsv.gz\"\n",
        "spark.sparkContext.addFile(url)\n",
        "df = spark.read.option(\"encoding\", \"UTF-8\").csv(SparkFiles.get(\"amazon_reviews_us_Mobile_Apps_v1_00.tsv.gz\"), sep=\"\\t\", header=True, inferSchema=True)\n",
        "df.show()"
      ],
      "execution_count": 6,
      "outputs": [
        {
          "output_type": "stream",
          "name": "stdout",
          "text": [
            "+-----------+-----------+--------------+----------+--------------+--------------------+----------------+-----------+-------------+-----------+----+-----------------+--------------------+--------------------+-------------------+\n",
            "|marketplace|customer_id|     review_id|product_id|product_parent|       product_title|product_category|star_rating|helpful_votes|total_votes|vine|verified_purchase|     review_headline|         review_body|        review_date|\n",
            "+-----------+-----------+--------------+----------+--------------+--------------------+----------------+-----------+-------------+-----------+----+-----------------+--------------------+--------------------+-------------------+\n",
            "|         US|    1774101|R3PMQXEVYR4ZT1|B00DVKOYBM|     263046246|         8 Ball Pool|     Mobile_Apps|          3|            0|          0|   N|                Y|                 Fun|It is a fun game ...|2015-08-31 00:00:00|\n",
            "|         US|   13679234|R1I1K3EO98EMUV|B00R1IA4RS|     128868854|Christmas Cookie ...|     Mobile_Apps|          5|            0|          0|   N|                Y|          Five Stars|Fun cute game.  S...|2015-08-31 00:00:00|\n",
            "|         US|   15056632|R3K23URSI2MY42|B01069LGHK|     955481764|Relax Melodies Pr...|     Mobile_Apps|          5|            4|          4|   N|                Y|         Great app !|It's a very nice ...|2015-08-31 00:00:00|\n",
            "|         US|   52477711| RH2P770T10X38|B00X64ZKM0|     455029830|  Star Trek™ Trexels|     Mobile_Apps|          5|            0|          0|   N|                Y|             awesome|I am a huge star ...|2015-08-31 00:00:00|\n",
            "|         US|   15021042| RV9YBAW8CWFYN|B00KIZO238|     685358159|      Weather Friend|     Mobile_Apps|          1|            0|          0|   N|                Y|      Don't like it.|I get better info...|2015-08-31 00:00:00|\n",
            "|         US|    5181462| R19627K7G1G6X|B00H9FE0FU|     158085302|         Avakin Life|     Mobile_Apps|          5|            0|          0|   N|                Y|             love it|  This is a fun game|2015-08-31 00:00:00|\n",
            "|         US|   19360265|R22858XECEF7YQ|B0064X7FVE|     140639925|The Weather Chann...|     Mobile_Apps|          3|            0|          0|   N|                N|         weather app|It's ok ... I gue...|2015-08-31 00:00:00|\n",
            "|         US|   28928572|R3KQOY7MDZOK0U|B00N28818A|     838378762|  Amazon Prime Video|     Mobile_Apps|          1|            0|          0|   N|                Y|            One Star|Spent 30 minutes,...|2015-08-31 00:00:00|\n",
            "|         US|   26842555|R31BKIN02QFDHS|B00HGMXSGI|     141073643|F1 Car Racing 3D ...|     Mobile_Apps|          4|            0|          0|   N|                Y|          Four Stars|                okay|2015-08-31 00:00:00|\n",
            "|         US|   25535583|R3FW62P5EUDUUV|B0119R2DB6|     498391460|           WordBrain|     Mobile_Apps|          5|            0|          0|   N|                Y|        Challenging!|Definitely one of...|2015-08-31 00:00:00|\n",
            "|         US|    3343825| RBD8ROQJQO68E|B00O0OR65E|     156086007|           Yes Chef!|     Mobile_Apps|          5|            0|          0|   N|                Y|            Awesome!|Very cool game. W...|2015-08-31 00:00:00|\n",
            "|         US|   49181739|R1S04R7IT12FKH|B00YCL9R0W|     629058532|Weather Live - De...|     Mobile_Apps|          4|            0|          0|   N|                Y|       Works great!!|Works great, all ...|2015-08-31 00:00:00|\n",
            "|         US|   13270659|R194G91R3ZLBF2|B00CO6TOZA|     829161463|The Sandbox - Pix...|     Mobile_Apps|          1|            0|          0|   N|                Y|       Can't open it|It was fun until ...|2015-08-31 00:00:00|\n",
            "|         US|    2463531|R3HL9X6I540JIU|B0143IEV2C|     700349630|Free Fur All – We...|     Mobile_Apps|          4|            3|          3|   N|                Y|           it's fun.|My daughter watch...|2015-08-31 00:00:00|\n",
            "|         US|   22004512|R2EY7KOBYDYXXA|B013Z61TSW|     597449900| DraftCaddy FFL 2015|     Mobile_Apps|          5|            0|          0|   N|                Y|          Five Stars|Great and super e...|2015-08-31 00:00:00|\n",
            "|         US|   22117302|R25RWPOJZ107LS|B00VTVJYTC|     280276697|    Balloon Paradise|     Mobile_Apps|          5|            0|          0|   N|                Y|                 fun|This is fun too play|2015-08-31 00:00:00|\n",
            "|         US|   15335275|R3CXLGDEO7QPGY|B00W3V83QW|     644120444| Bubble Witch 2 Saga|     Mobile_Apps|          1|            0|          0|   N|                Y|Cannot download e...|Cannot download  ...|2015-08-31 00:00:00|\n",
            "|         US|    8713121|R3AEWJ6OQZI2DV|B011WDWQ6O|     228013366|Viva Vegas Slots ...|     Mobile_Apps|          3|            0|          0|   N|                Y|               agree|The game sucks yo...|2015-08-31 00:00:00|\n",
            "|         US|   25989961|R3QD4EAHDX3JVP|B00F9G2UQW|     523400408|Android Universal...|     Mobile_Apps|          3|            0|          0|   N|                Y|            Horrible|It's so annoying ...|2015-08-31 00:00:00|\n",
            "|         US|    3729602| R14F4B4CZ4RIJ|B00Y3ZWEL6|     860150135|Castle of Illusio...|     Mobile_Apps|          1|            0|          2|   N|                Y|               Why?!|I have been tryin...|2015-08-31 00:00:00|\n",
            "+-----------+-----------+--------------+----------+--------------+--------------------+----------------+-----------+-------------+-----------+----+-----------------+--------------------+--------------------+-------------------+\n",
            "only showing top 20 rows\n",
            "\n"
          ]
        }
      ]
    },
    {
      "cell_type": "markdown",
      "metadata": {
        "id": "2yUSe55VY-9t"
      },
      "source": [
        "### Create DataFrames to match tables"
      ]
    },
    {
      "cell_type": "code",
      "metadata": {
        "id": "C8REmY1aY-9u",
        "colab": {
          "base_uri": "https://localhost:8080/"
        },
        "outputId": "27d3852b-b0b1-4bd9-807d-5a829103c51a"
      },
      "source": [
        "from pyspark.sql.functions import to_date\n",
        "# Read in the Review dataset as a DataFrame\n",
        "review_df = df.select([\"review_id\",\"customer_id\",\"product_id\",\"product_parent\",\"product_title\",\"review_date\",\"star_rating\", \"helpful_votes\",\"total_votes\",\"vine\",\"verified_purchase\"])\n",
        "review_df.show()\n",
        "\n",
        "review_df2 = review_df.dropDuplicates([\"review_id\"])\n",
        "print(\"Distinct count: \",review_df2.count())\n",
        "print(\"Distinct count: \",review_df.count())"
      ],
      "execution_count": 8,
      "outputs": [
        {
          "output_type": "stream",
          "name": "stdout",
          "text": [
            "+--------------+-----------+----------+--------------+--------------------+-------------------+-----------+-------------+-----------+----+-----------------+\n",
            "|     review_id|customer_id|product_id|product_parent|       product_title|        review_date|star_rating|helpful_votes|total_votes|vine|verified_purchase|\n",
            "+--------------+-----------+----------+--------------+--------------------+-------------------+-----------+-------------+-----------+----+-----------------+\n",
            "|R3PMQXEVYR4ZT1|    1774101|B00DVKOYBM|     263046246|         8 Ball Pool|2015-08-31 00:00:00|          3|            0|          0|   N|                Y|\n",
            "|R1I1K3EO98EMUV|   13679234|B00R1IA4RS|     128868854|Christmas Cookie ...|2015-08-31 00:00:00|          5|            0|          0|   N|                Y|\n",
            "|R3K23URSI2MY42|   15056632|B01069LGHK|     955481764|Relax Melodies Pr...|2015-08-31 00:00:00|          5|            4|          4|   N|                Y|\n",
            "| RH2P770T10X38|   52477711|B00X64ZKM0|     455029830|  Star Trek™ Trexels|2015-08-31 00:00:00|          5|            0|          0|   N|                Y|\n",
            "| RV9YBAW8CWFYN|   15021042|B00KIZO238|     685358159|      Weather Friend|2015-08-31 00:00:00|          1|            0|          0|   N|                Y|\n",
            "| R19627K7G1G6X|    5181462|B00H9FE0FU|     158085302|         Avakin Life|2015-08-31 00:00:00|          5|            0|          0|   N|                Y|\n",
            "|R22858XECEF7YQ|   19360265|B0064X7FVE|     140639925|The Weather Chann...|2015-08-31 00:00:00|          3|            0|          0|   N|                N|\n",
            "|R3KQOY7MDZOK0U|   28928572|B00N28818A|     838378762|  Amazon Prime Video|2015-08-31 00:00:00|          1|            0|          0|   N|                Y|\n",
            "|R31BKIN02QFDHS|   26842555|B00HGMXSGI|     141073643|F1 Car Racing 3D ...|2015-08-31 00:00:00|          4|            0|          0|   N|                Y|\n",
            "|R3FW62P5EUDUUV|   25535583|B0119R2DB6|     498391460|           WordBrain|2015-08-31 00:00:00|          5|            0|          0|   N|                Y|\n",
            "| RBD8ROQJQO68E|    3343825|B00O0OR65E|     156086007|           Yes Chef!|2015-08-31 00:00:00|          5|            0|          0|   N|                Y|\n",
            "|R1S04R7IT12FKH|   49181739|B00YCL9R0W|     629058532|Weather Live - De...|2015-08-31 00:00:00|          4|            0|          0|   N|                Y|\n",
            "|R194G91R3ZLBF2|   13270659|B00CO6TOZA|     829161463|The Sandbox - Pix...|2015-08-31 00:00:00|          1|            0|          0|   N|                Y|\n",
            "|R3HL9X6I540JIU|    2463531|B0143IEV2C|     700349630|Free Fur All – We...|2015-08-31 00:00:00|          4|            3|          3|   N|                Y|\n",
            "|R2EY7KOBYDYXXA|   22004512|B013Z61TSW|     597449900| DraftCaddy FFL 2015|2015-08-31 00:00:00|          5|            0|          0|   N|                Y|\n",
            "|R25RWPOJZ107LS|   22117302|B00VTVJYTC|     280276697|    Balloon Paradise|2015-08-31 00:00:00|          5|            0|          0|   N|                Y|\n",
            "|R3CXLGDEO7QPGY|   15335275|B00W3V83QW|     644120444| Bubble Witch 2 Saga|2015-08-31 00:00:00|          1|            0|          0|   N|                Y|\n",
            "|R3AEWJ6OQZI2DV|    8713121|B011WDWQ6O|     228013366|Viva Vegas Slots ...|2015-08-31 00:00:00|          3|            0|          0|   N|                Y|\n",
            "|R3QD4EAHDX3JVP|   25989961|B00F9G2UQW|     523400408|Android Universal...|2015-08-31 00:00:00|          3|            0|          0|   N|                Y|\n",
            "| R14F4B4CZ4RIJ|    3729602|B00Y3ZWEL6|     860150135|Castle of Illusio...|2015-08-31 00:00:00|          1|            0|          2|   N|                Y|\n",
            "+--------------+-----------+----------+--------------+--------------------+-------------------+-----------+-------------+-----------+----+-----------------+\n",
            "only showing top 20 rows\n",
            "\n",
            "Distinct count:  5033376\n",
            "Distinct count:  5033376\n"
          ]
        }
      ]
    },
    {
      "cell_type": "code",
      "metadata": {
        "id": "B0TESUDRY-90",
        "colab": {
          "base_uri": "https://localhost:8080/"
        },
        "outputId": "00a044ae-f644-48c5-f895-2aa7b68330b7"
      },
      "source": [
        "# Create the customers_table DataFrame\n",
        "# customers_df = df.groupby(\"\").agg({\"\"}).withColumnRenamed(\"\", \"customer_count\")\n",
        "customers_df = review_df.groupby(\"customer_id\").agg({\"customer_id\": 'count'}).withColumnRenamed(\"count(customer_id)\", \"customer_count\")\n",
        "customers_df.show()\n"
      ],
      "execution_count": 9,
      "outputs": [
        {
          "output_type": "stream",
          "name": "stdout",
          "text": [
            "+-----------+--------------+\n",
            "|customer_id|customer_count|\n",
            "+-----------+--------------+\n",
            "|   44552694|             7|\n",
            "|   27457155|             6|\n",
            "|   35842367|             9|\n",
            "|   16848166|             5|\n",
            "|   13313689|            10|\n",
            "|    3628854|             1|\n",
            "|   43626894|             1|\n",
            "|    4658983|             8|\n",
            "|   16457323|             3|\n",
            "|   30024726|             5|\n",
            "|    3636174|             1|\n",
            "|     582750|             1|\n",
            "|      78113|             1|\n",
            "|    2246607|             5|\n",
            "|   26264517|             1|\n",
            "|    7439900|             1|\n",
            "|    2361059|             2|\n",
            "|   22965400|             2|\n",
            "|   32777038|             1|\n",
            "|   29019526|             2|\n",
            "+-----------+--------------+\n",
            "only showing top 20 rows\n",
            "\n"
          ]
        }
      ]
    },
    {
      "cell_type": "code",
      "metadata": {
        "id": "4FwXA6UvY-96",
        "colab": {
          "base_uri": "https://localhost:8080/"
        },
        "outputId": "1f1215fe-20e1-40e2-e07f-9d43cb6a6094"
      },
      "source": [
        "# Create the products_table DataFrame and drop duplicates. \n",
        "# products_df = df.select([]).drop_duplicates()\n",
        "products_df = review_df.select([\"product_id\",\"product_title\"]).drop_duplicates([\"product_id\"])\n",
        "products_df.show()"
      ],
      "execution_count": 10,
      "outputs": [
        {
          "output_type": "stream",
          "name": "stdout",
          "text": [
            "+----------+--------------------+\n",
            "|product_id|       product_title|\n",
            "+----------+--------------------+\n",
            "|B004752CB4|Brigham's Airport...|\n",
            "|B004981S0K|           Generic K|\n",
            "|B004AFQAUA|             Napster|\n",
            "|B004ALJIOE|     Fast Reboot Pro|\n",
            "|B004ALVL6W|    Bubble Defense 2|\n",
            "|B004AMDC86|Enigma - Cryptograms|\n",
            "|B004AMFUYK|   Vegas Pool Sharks|\n",
            "|B004AMIYJS| 3D Spider Walk Free|\n",
            "|B004AMLATE|       Tank Ace 1944|\n",
            "|B004AMRGLA|             Gragger|\n",
            "|B004ANC00Q|         Car Locator|\n",
            "|B004ANE2WU|         Par 72 Golf|\n",
            "|B004AZH4C8|        Enjoy Sudoku|\n",
            "|B004AZSY4K|Overkill: Space S...|\n",
            "|B004BH1B9M|          Lights Out|\n",
            "|B004BN3YQE|       Word Collapse|\n",
            "|B004CN7Y4G|           Thesaurus|\n",
            "|B004DJZBN0|Total Recall Call...|\n",
            "|B004DKEGQC|            Kool App|\n",
            "|B004DKSUXC|    Spider Solitaire|\n",
            "+----------+--------------------+\n",
            "only showing top 20 rows\n",
            "\n"
          ]
        }
      ]
    },
    {
      "cell_type": "code",
      "metadata": {
        "id": "MkqyCuNQY-9-",
        "colab": {
          "base_uri": "https://localhost:8080/"
        },
        "outputId": "b2845001-5f5d-4fc6-9823-0645fe84385d"
      },
      "source": [
        "# Create the review_id_table DataFrame. \n",
        "# Convert the 'review_date' column to a date datatype with to_date(\"review_date\", 'yyyy-MM-dd').alias(\"review_date\")\n",
        "# review_id_df = df.select([, to_date(\"review_date\", 'yyyy-MM-dd').alias(\"review_date\")])\n",
        "review_id_df = review_df.select([\"review_id\",\"customer_id\", \"product_id\",\"product_parent\", to_date(\"review_date\", 'yyyy-MM-dd').alias(\"review_date\")])\n",
        "review_id_df.show()\n",
        "review_id_df.count()\n",
        "\n",
        "review_id_df = review_id_df.distinct()\n",
        "review_id_df.count()\n"
      ],
      "execution_count": 11,
      "outputs": [
        {
          "output_type": "stream",
          "name": "stdout",
          "text": [
            "+--------------+-----------+----------+--------------+-----------+\n",
            "|     review_id|customer_id|product_id|product_parent|review_date|\n",
            "+--------------+-----------+----------+--------------+-----------+\n",
            "|R3PMQXEVYR4ZT1|    1774101|B00DVKOYBM|     263046246| 2015-08-31|\n",
            "|R1I1K3EO98EMUV|   13679234|B00R1IA4RS|     128868854| 2015-08-31|\n",
            "|R3K23URSI2MY42|   15056632|B01069LGHK|     955481764| 2015-08-31|\n",
            "| RH2P770T10X38|   52477711|B00X64ZKM0|     455029830| 2015-08-31|\n",
            "| RV9YBAW8CWFYN|   15021042|B00KIZO238|     685358159| 2015-08-31|\n",
            "| R19627K7G1G6X|    5181462|B00H9FE0FU|     158085302| 2015-08-31|\n",
            "|R22858XECEF7YQ|   19360265|B0064X7FVE|     140639925| 2015-08-31|\n",
            "|R3KQOY7MDZOK0U|   28928572|B00N28818A|     838378762| 2015-08-31|\n",
            "|R31BKIN02QFDHS|   26842555|B00HGMXSGI|     141073643| 2015-08-31|\n",
            "|R3FW62P5EUDUUV|   25535583|B0119R2DB6|     498391460| 2015-08-31|\n",
            "| RBD8ROQJQO68E|    3343825|B00O0OR65E|     156086007| 2015-08-31|\n",
            "|R1S04R7IT12FKH|   49181739|B00YCL9R0W|     629058532| 2015-08-31|\n",
            "|R194G91R3ZLBF2|   13270659|B00CO6TOZA|     829161463| 2015-08-31|\n",
            "|R3HL9X6I540JIU|    2463531|B0143IEV2C|     700349630| 2015-08-31|\n",
            "|R2EY7KOBYDYXXA|   22004512|B013Z61TSW|     597449900| 2015-08-31|\n",
            "|R25RWPOJZ107LS|   22117302|B00VTVJYTC|     280276697| 2015-08-31|\n",
            "|R3CXLGDEO7QPGY|   15335275|B00W3V83QW|     644120444| 2015-08-31|\n",
            "|R3AEWJ6OQZI2DV|    8713121|B011WDWQ6O|     228013366| 2015-08-31|\n",
            "|R3QD4EAHDX3JVP|   25989961|B00F9G2UQW|     523400408| 2015-08-31|\n",
            "| R14F4B4CZ4RIJ|    3729602|B00Y3ZWEL6|     860150135| 2015-08-31|\n",
            "+--------------+-----------+----------+--------------+-----------+\n",
            "only showing top 20 rows\n",
            "\n"
          ]
        },
        {
          "output_type": "execute_result",
          "data": {
            "text/plain": [
              "5033376"
            ]
          },
          "metadata": {},
          "execution_count": 11
        }
      ]
    },
    {
      "cell_type": "code",
      "metadata": {
        "id": "lzMmkdKmY--D",
        "colab": {
          "base_uri": "https://localhost:8080/"
        },
        "outputId": "05bbf5d6-cde8-4862-8b27-5756d8e93786"
      },
      "source": [
        "# Create the vine_table. DataFrame\n",
        "# vine_df = df.select([])\n",
        "vine_df = review_df.select([\"review_id\",\"star_rating\",\"helpful_votes\",\"total_votes\",\"vine\",\"verified_purchase\"])\n",
        "vine_df.show()\n"
      ],
      "execution_count": 12,
      "outputs": [
        {
          "output_type": "stream",
          "name": "stdout",
          "text": [
            "+--------------+-----------+-------------+-----------+----+-----------------+\n",
            "|     review_id|star_rating|helpful_votes|total_votes|vine|verified_purchase|\n",
            "+--------------+-----------+-------------+-----------+----+-----------------+\n",
            "|R3PMQXEVYR4ZT1|          3|            0|          0|   N|                Y|\n",
            "|R1I1K3EO98EMUV|          5|            0|          0|   N|                Y|\n",
            "|R3K23URSI2MY42|          5|            4|          4|   N|                Y|\n",
            "| RH2P770T10X38|          5|            0|          0|   N|                Y|\n",
            "| RV9YBAW8CWFYN|          1|            0|          0|   N|                Y|\n",
            "| R19627K7G1G6X|          5|            0|          0|   N|                Y|\n",
            "|R22858XECEF7YQ|          3|            0|          0|   N|                N|\n",
            "|R3KQOY7MDZOK0U|          1|            0|          0|   N|                Y|\n",
            "|R31BKIN02QFDHS|          4|            0|          0|   N|                Y|\n",
            "|R3FW62P5EUDUUV|          5|            0|          0|   N|                Y|\n",
            "| RBD8ROQJQO68E|          5|            0|          0|   N|                Y|\n",
            "|R1S04R7IT12FKH|          4|            0|          0|   N|                Y|\n",
            "|R194G91R3ZLBF2|          1|            0|          0|   N|                Y|\n",
            "|R3HL9X6I540JIU|          4|            3|          3|   N|                Y|\n",
            "|R2EY7KOBYDYXXA|          5|            0|          0|   N|                Y|\n",
            "|R25RWPOJZ107LS|          5|            0|          0|   N|                Y|\n",
            "|R3CXLGDEO7QPGY|          1|            0|          0|   N|                Y|\n",
            "|R3AEWJ6OQZI2DV|          3|            0|          0|   N|                Y|\n",
            "|R3QD4EAHDX3JVP|          3|            0|          0|   N|                Y|\n",
            "| R14F4B4CZ4RIJ|          1|            0|          2|   N|                Y|\n",
            "+--------------+-----------+-------------+-----------+----+-----------------+\n",
            "only showing top 20 rows\n",
            "\n"
          ]
        }
      ]
    },
    {
      "cell_type": "markdown",
      "metadata": {
        "id": "jITZhLkmY--J"
      },
      "source": [
        "### Connect to the AWS RDS instance and write each DataFrame to its table. "
      ]
    },
    {
      "cell_type": "code",
      "metadata": {
        "id": "7jiUvs1aY--L"
      },
      "source": [
        "# Configure settings for RDS\n",
        "mode = \"append\"\n",
        "jdbc_url=\"jdbc:postgresql://dataviz.c14se7ofvwud.us-east-2.rds.amazonaws.com:5432/Amazon_Vine_Analysis\"\n",
        "config = {\"user\":\"postgres\", \n",
        "          \"password\": \"kc101010\", \n",
        "          \"driver\":\"org.postgresql.Driver\"}"
      ],
      "execution_count": null,
      "outputs": []
    },
    {
      "cell_type": "code",
      "metadata": {
        "id": "T2zgZ-aKY--Q"
      },
      "source": [
        "# Write review_id_df to table in RDS\n",
        "review_id_df.write.jdbc(url=jdbc_url, table='review_id_table', mode=mode, properties=config)"
      ],
      "execution_count": null,
      "outputs": []
    },
    {
      "cell_type": "code",
      "metadata": {
        "id": "1m3yzn-LY--U"
      },
      "source": [
        "# Write products_df to table in RDS\n",
        "# about 3 min\n",
        "products_df.write.jdbc(url=jdbc_url, table='products_table', mode=mode, properties=config)"
      ],
      "execution_count": null,
      "outputs": []
    },
    {
      "cell_type": "code",
      "metadata": {
        "id": "KbXri15fY--Z"
      },
      "source": [
        "# Write customers_df to table in RDS\n",
        "# 5 min 14 s\n",
        "customers_df.write.jdbc(url=jdbc_url, table='customers_table', mode=mode, properties=config)"
      ],
      "execution_count": null,
      "outputs": []
    },
    {
      "cell_type": "code",
      "metadata": {
        "id": "XdQknSHLY--e"
      },
      "source": [
        "# Write vine_df to table in RDS\n",
        "# 11 minutes\n",
        "vine_df.write.jdbc(url=jdbc_url, table='vine_table', mode=mode, properties=config)"
      ],
      "execution_count": null,
      "outputs": []
    },
    {
      "cell_type": "code",
      "metadata": {
        "id": "Exuo6ebUsCqW"
      },
      "source": [],
      "execution_count": null,
      "outputs": []
    }
  ]
}